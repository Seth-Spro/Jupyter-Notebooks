{
 "cells": [
  {
   "cell_type": "markdown",
   "id": "181fcbc5",
   "metadata": {},
   "source": [
    "## HOMEWORK CHTPR 6\n"
   ]
  },
  {
   "cell_type": "markdown",
   "id": "afe5cbae",
   "metadata": {},
   "source": [
    "## EX 1"
   ]
  },
  {
   "cell_type": "code",
   "execution_count": 1,
   "id": "7bea2bd7",
   "metadata": {},
   "outputs": [],
   "source": [
    "import pandas as pd"
   ]
  },
  {
   "cell_type": "code",
   "execution_count": 2,
   "id": "6b26ae0f",
   "metadata": {},
   "outputs": [
    {
     "name": "stdout",
     "output_type": "stream",
     "text": [
      "<class 'pandas.core.frame.DataFrame'>\n",
      "RangeIndex: 2577 entries, 0 to 2576\n",
      "Data columns (total 5 columns):\n",
      " #   Column   Non-Null Count  Dtype  \n",
      "---  ------   --------------  -----  \n",
      " 0   Brand    2577 non-null   object \n",
      " 1   Variety  2577 non-null   object \n",
      " 2   Style    2575 non-null   object \n",
      " 3   Country  2577 non-null   object \n",
      " 4   Stars    2577 non-null   float64\n",
      "dtypes: float64(1), object(4)\n",
      "memory usage: 100.8+ KB\n"
     ]
    }
   ],
   "source": [
    "ramen_url = 'C:\\\\Users\\\\Seith Sproule\\\\Documents\\\\UNI\\\\ramen-ratings.csv'\n",
    "ramen_data = pd.read_csv(ramen_url)\n",
    "ramen_data.info()"
   ]
  },
  {
   "cell_type": "code",
   "execution_count": 3,
   "id": "e94e7609",
   "metadata": {},
   "outputs": [
    {
     "name": "stdout",
     "output_type": "stream",
     "text": [
      "<class 'pandas.core.frame.DataFrame'>\n",
      "RangeIndex: 2577 entries, 0 to 2576\n",
      "Data columns (total 5 columns):\n",
      " #   Column   Non-Null Count  Dtype  \n",
      "---  ------   --------------  -----  \n",
      " 0   Brand    2577 non-null   object \n",
      " 1   Variety  2577 non-null   object \n",
      " 2   Style    2575 non-null   object \n",
      " 3   Country  2577 non-null   object \n",
      " 4   Rating   2577 non-null   float64\n",
      "dtypes: float64(1), object(4)\n",
      "memory usage: 100.8+ KB\n"
     ]
    }
   ],
   "source": [
    "#Q2\n",
    "ramen_cols = {'Stars':'Rating'}\n",
    "ramen_data.rename(columns = ramen_cols, inplace=True)\n",
    "ramen_data.info()"
   ]
  },
  {
   "cell_type": "code",
   "execution_count": 4,
   "id": "8cb8a025",
   "metadata": {},
   "outputs": [
    {
     "name": "stdout",
     "output_type": "stream",
     "text": [
      "<class 'pandas.core.frame.DataFrame'>\n",
      "RangeIndex: 2577 entries, 0 to 2576\n",
      "Data columns (total 5 columns):\n",
      " #   Column   Non-Null Count  Dtype   \n",
      "---  ------   --------------  -----   \n",
      " 0   Brand    2577 non-null   object  \n",
      " 1   Variety  2577 non-null   object  \n",
      " 2   Style    2575 non-null   category\n",
      " 3   Country  2577 non-null   object  \n",
      " 4   Rating   2577 non-null   float64 \n",
      "dtypes: category(1), float64(1), object(3)\n",
      "memory usage: 83.5+ KB\n"
     ]
    }
   ],
   "source": [
    "#Q3\n",
    "ramen_data.Style = ramen_data.Style.astype('category')\n",
    "ramen_data.info()"
   ]
  },
  {
   "cell_type": "code",
   "execution_count": 5,
   "id": "993bd38b",
   "metadata": {},
   "outputs": [
    {
     "name": "stdout",
     "output_type": "stream",
     "text": [
      "<class 'pandas.core.frame.DataFrame'>\n",
      "RangeIndex: 2577 entries, 0 to 2576\n",
      "Data columns (total 4 columns):\n",
      " #   Column   Non-Null Count  Dtype   \n",
      "---  ------   --------------  -----   \n",
      " 0   Brand    2577 non-null   object  \n",
      " 1   Variety  2577 non-null   object  \n",
      " 2   Style    2575 non-null   category\n",
      " 3   Rating   2577 non-null   float64 \n",
      "dtypes: category(1), float64(1), object(2)\n",
      "memory usage: 63.4+ KB\n"
     ]
    }
   ],
   "source": [
    "#Q4\n",
    "ramen_data.drop(columns=['Country'],inplace=True)\n",
    "ramen_data.info()"
   ]
  },
  {
   "cell_type": "code",
   "execution_count": 6,
   "id": "495ce230",
   "metadata": {},
   "outputs": [
    {
     "name": "stdout",
     "output_type": "stream",
     "text": [
      "<class 'pandas.core.frame.DataFrame'>\n",
      "RangeIndex: 2577 entries, 0 to 2576\n",
      "Data columns (total 4 columns):\n",
      " #   Column   Non-Null Count  Dtype   \n",
      "---  ------   --------------  -----   \n",
      " 0   Brand    2577 non-null   object  \n",
      " 1   Variety  2577 non-null   object  \n",
      " 2   Style    2575 non-null   category\n",
      " 3   Rating   2577 non-null   float64 \n",
      "dtypes: category(1), float64(1), object(2)\n",
      "memory usage: 63.4+ KB\n"
     ]
    }
   ],
   "source": [
    "#Q5\n",
    "ramen_data.info()"
   ]
  },
  {
   "cell_type": "code",
   "execution_count": 7,
   "id": "0cbca427",
   "metadata": {},
   "outputs": [
    {
     "name": "stdout",
     "output_type": "stream",
     "text": [
      "<class 'pandas.core.frame.DataFrame'>\n",
      "RangeIndex: 2577 entries, 0 to 2576\n",
      "Data columns (total 4 columns):\n",
      " #   Column   Non-Null Count  Dtype   \n",
      "---  ------   --------------  -----   \n",
      " 0   Company  2577 non-null   object  \n",
      " 1   Product  2577 non-null   object  \n",
      " 2   Style    2575 non-null   category\n",
      " 3   Rating   2577 non-null   float64 \n",
      "dtypes: category(1), float64(1), object(2)\n",
      "memory usage: 63.4+ KB\n"
     ]
    }
   ],
   "source": [
    "#Q6\n",
    "ramen_cols = {'Brand':'Company','Variety':'Product'}\n",
    "ramen_data.rename(columns = ramen_cols, inplace=True)\n",
    "ramen_data.info()"
   ]
  },
  {
   "cell_type": "code",
   "execution_count": 8,
   "id": "d8aec5fa",
   "metadata": {},
   "outputs": [
    {
     "data": {
      "text/html": [
       "<div>\n",
       "<style scoped>\n",
       "    .dataframe tbody tr th:only-of-type {\n",
       "        vertical-align: middle;\n",
       "    }\n",
       "\n",
       "    .dataframe tbody tr th {\n",
       "        vertical-align: top;\n",
       "    }\n",
       "\n",
       "    .dataframe thead th {\n",
       "        text-align: right;\n",
       "    }\n",
       "</style>\n",
       "<table border=\"1\" class=\"dataframe\">\n",
       "  <thead>\n",
       "    <tr style=\"text-align: right;\">\n",
       "      <th></th>\n",
       "      <th>Company</th>\n",
       "      <th>Product</th>\n",
       "      <th>Style</th>\n",
       "      <th>Rating</th>\n",
       "    </tr>\n",
       "  </thead>\n",
       "  <tbody>\n",
       "    <tr>\n",
       "      <th>2</th>\n",
       "      <td>Nissin</td>\n",
       "      <td>Cup Noodles Chicken Vegetable</td>\n",
       "      <td>Cup</td>\n",
       "      <td>2.25</td>\n",
       "    </tr>\n",
       "    <tr>\n",
       "      <th>24</th>\n",
       "      <td>Ching's Secret</td>\n",
       "      <td>Hot Garlic Instant Noodles</td>\n",
       "      <td>Pack</td>\n",
       "      <td>4.25</td>\n",
       "    </tr>\n",
       "    <tr>\n",
       "      <th>46</th>\n",
       "      <td>Nongshim</td>\n",
       "      <td>Shin Ramyun Black</td>\n",
       "      <td>Pack</td>\n",
       "      <td>5.00</td>\n",
       "    </tr>\n",
       "    <tr>\n",
       "      <th>69</th>\n",
       "      <td>MyKuali</td>\n",
       "      <td>Penang Red Tom Yum Goong Noodle</td>\n",
       "      <td>Pack</td>\n",
       "      <td>5.00</td>\n",
       "    </tr>\n",
       "    <tr>\n",
       "      <th>75</th>\n",
       "      <td>Nongshim</td>\n",
       "      <td>Shin Ramyun</td>\n",
       "      <td>Pack</td>\n",
       "      <td>3.00</td>\n",
       "    </tr>\n",
       "    <tr>\n",
       "      <th>...</th>\n",
       "      <td>...</td>\n",
       "      <td>...</td>\n",
       "      <td>...</td>\n",
       "      <td>...</td>\n",
       "    </tr>\n",
       "    <tr>\n",
       "      <th>2545</th>\n",
       "      <td>Koka</td>\n",
       "      <td>Mi Hai Cua Crab Flavor</td>\n",
       "      <td>Pack</td>\n",
       "      <td>3.50</td>\n",
       "    </tr>\n",
       "    <tr>\n",
       "      <th>2552</th>\n",
       "      <td>Nissin</td>\n",
       "      <td>Demae Ramen Spicy Flavor</td>\n",
       "      <td>Pack</td>\n",
       "      <td>3.00</td>\n",
       "    </tr>\n",
       "    <tr>\n",
       "      <th>2556</th>\n",
       "      <td>Nongshim</td>\n",
       "      <td>Champong Oriental Noodles</td>\n",
       "      <td>Pack</td>\n",
       "      <td>4.00</td>\n",
       "    </tr>\n",
       "    <tr>\n",
       "      <th>2558</th>\n",
       "      <td>Nongshim</td>\n",
       "      <td>Shin Ramyun</td>\n",
       "      <td>Pack</td>\n",
       "      <td>4.00</td>\n",
       "    </tr>\n",
       "    <tr>\n",
       "      <th>2565</th>\n",
       "      <td>Sapporo Ichiban</td>\n",
       "      <td>Shrimp Flavor</td>\n",
       "      <td>Pack</td>\n",
       "      <td>2.50</td>\n",
       "    </tr>\n",
       "  </tbody>\n",
       "</table>\n",
       "<p>118 rows × 4 columns</p>\n",
       "</div>"
      ],
      "text/plain": [
       "              Company                          Product Style  Rating\n",
       "2              Nissin    Cup Noodles Chicken Vegetable   Cup    2.25\n",
       "24     Ching's Secret       Hot Garlic Instant Noodles  Pack    4.25\n",
       "46           Nongshim                Shin Ramyun Black  Pack    5.00\n",
       "69            MyKuali  Penang Red Tom Yum Goong Noodle  Pack    5.00\n",
       "75           Nongshim                      Shin Ramyun  Pack    3.00\n",
       "...               ...                              ...   ...     ...\n",
       "2545             Koka           Mi Hai Cua Crab Flavor  Pack    3.50\n",
       "2552           Nissin         Demae Ramen Spicy Flavor  Pack    3.00\n",
       "2556         Nongshim        Champong Oriental Noodles  Pack    4.00\n",
       "2558         Nongshim                      Shin Ramyun  Pack    4.00\n",
       "2565  Sapporo Ichiban                    Shrimp Flavor  Pack    2.50\n",
       "\n",
       "[118 rows x 4 columns]"
      ]
     },
     "execution_count": 8,
     "metadata": {},
     "output_type": "execute_result"
    }
   ],
   "source": [
    "#Q7\n",
    "ramen_data[ramen_data.duplicated(subset=['Company', 'Product'], keep=False)]"
   ]
  },
  {
   "cell_type": "code",
   "execution_count": 9,
   "id": "67bdc917",
   "metadata": {},
   "outputs": [],
   "source": [
    "#Q8\n",
    "ramen_data.drop_duplicates(keep='first',inplace=True)"
   ]
  },
  {
   "cell_type": "code",
   "execution_count": 10,
   "id": "e6eaa304",
   "metadata": {},
   "outputs": [
    {
     "name": "stdout",
     "output_type": "stream",
     "text": [
      "Company    0\n",
      "Product    0\n",
      "Style      2\n",
      "Rating     0\n",
      "dtype: int64\n"
     ]
    }
   ],
   "source": [
    "#Q9\n",
    "missing = ramen_data.shape[0] - ramen_data.count()\n",
    "print(missing)"
   ]
  },
  {
   "cell_type": "code",
   "execution_count": 11,
   "id": "33807ae4",
   "metadata": {},
   "outputs": [],
   "source": [
    "ramen_data.dropna(subset=['Style'],inplace=True)"
   ]
  },
  {
   "cell_type": "code",
   "execution_count": 12,
   "id": "78f388d4",
   "metadata": {},
   "outputs": [
    {
     "name": "stdout",
     "output_type": "stream",
     "text": [
      "Company    0\n",
      "Product    0\n",
      "Style      0\n",
      "Rating     0\n",
      "dtype: int64\n"
     ]
    }
   ],
   "source": [
    "#Q10\n",
    "missing = ramen_data.shape[0] - ramen_data.count()\n",
    "print(missing)"
   ]
  },
  {
   "cell_type": "markdown",
   "id": "61a070be",
   "metadata": {},
   "source": [
    "## EX 2"
   ]
  },
  {
   "cell_type": "code",
   "execution_count": 13,
   "id": "0e2fd428",
   "metadata": {},
   "outputs": [],
   "source": [
    "avo_url = 'C:\\\\Users\\\\Seith Sproule\\\\Documents\\\\UNI\\\\avocado.csv'\n",
    "avo_data = pd.read_csv(avo_url)"
   ]
  },
  {
   "cell_type": "code",
   "execution_count": 14,
   "id": "9501bf54",
   "metadata": {},
   "outputs": [
    {
     "data": {
      "text/plain": [
       "Unnamed: 0         53\n",
       "Date              169\n",
       "AveragePrice      259\n",
       "Total Volume    18237\n",
       "4046            17702\n",
       "4225            18103\n",
       "4770            12071\n",
       "Total Bags      18097\n",
       "Small Bags      17321\n",
       "Large Bags      15082\n",
       "XLarge Bags      5588\n",
       "type                2\n",
       "year                4\n",
       "region             54\n",
       "dtype: int64"
      ]
     },
     "execution_count": 14,
     "metadata": {},
     "output_type": "execute_result"
    }
   ],
   "source": [
    "#Q2\n",
    "avo_data.nunique()"
   ]
  },
  {
   "cell_type": "code",
   "execution_count": 15,
   "id": "c2c07569",
   "metadata": {},
   "outputs": [],
   "source": [
    "#Q3\n",
    "avo_data = avo_data.drop(avo_data[avo_data['region'] == 'TotalUS'].index)"
   ]
  },
  {
   "cell_type": "code",
   "execution_count": 16,
   "id": "31c2089d",
   "metadata": {},
   "outputs": [],
   "source": [
    "#Q4\n",
    "avo_data.drop(columns=['Unnamed: 0','4046','4225','4770'],inplace=True)"
   ]
  },
  {
   "cell_type": "code",
   "execution_count": 18,
   "id": "aecf8774",
   "metadata": {},
   "outputs": [],
   "source": [
    "#Q5\n",
    "date_cols = ['Date']\n",
    "avo_data.Date = avo_data[date_cols].apply(pd.to_datetime)"
   ]
  },
  {
   "cell_type": "code",
   "execution_count": 19,
   "id": "0769ff9b",
   "metadata": {},
   "outputs": [
    {
     "name": "stdout",
     "output_type": "stream",
     "text": [
      "<class 'pandas.core.frame.DataFrame'>\n",
      "Index: 17911 entries, 0 to 18248\n",
      "Data columns (total 10 columns):\n",
      " #   Column        Non-Null Count  Dtype         \n",
      "---  ------        --------------  -----         \n",
      " 0   Date          17911 non-null  datetime64[ns]\n",
      " 1   AveragePrice  17911 non-null  float64       \n",
      " 2   Total Volume  17911 non-null  float64       \n",
      " 3   Total Bags    17911 non-null  float64       \n",
      " 4   Small Bags    17911 non-null  float64       \n",
      " 5   Large Bags    17911 non-null  float64       \n",
      " 6   XLarge Bags   17911 non-null  float64       \n",
      " 7   type          17911 non-null  object        \n",
      " 8   year          17911 non-null  int64         \n",
      " 9   region        17911 non-null  object        \n",
      "dtypes: datetime64[ns](1), float64(6), int64(1), object(2)\n",
      "memory usage: 1.5+ MB\n"
     ]
    }
   ],
   "source": [
    "#Q6\n",
    "avo_data.info()"
   ]
  },
  {
   "cell_type": "code",
   "execution_count": null,
   "id": "e7e1b03b",
   "metadata": {},
   "outputs": [],
   "source": []
  }
 ],
 "metadata": {
  "kernelspec": {
   "display_name": "Python 3 (ipykernel)",
   "language": "python",
   "name": "python3"
  },
  "language_info": {
   "codemirror_mode": {
    "name": "ipython",
    "version": 3
   },
   "file_extension": ".py",
   "mimetype": "text/x-python",
   "name": "python",
   "nbconvert_exporter": "python",
   "pygments_lexer": "ipython3",
   "version": "3.11.4"
  }
 },
 "nbformat": 4,
 "nbformat_minor": 5
}
